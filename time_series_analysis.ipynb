{
 "cells": [
  {
   "cell_type": "markdown",
   "metadata": {},
   "source": [
    "# A guide to Time series analysis"
   ]
  },
  {
   "cell_type": "code",
   "execution_count": 6,
   "metadata": {},
   "outputs": [],
   "source": [
    "import pandas as pd"
   ]
  },
  {
   "cell_type": "code",
   "execution_count": 15,
   "metadata": {},
   "outputs": [
    {
     "data": {
      "text/html": [
       "<div>\n",
       "<style scoped>\n",
       "    .dataframe tbody tr th:only-of-type {\n",
       "        vertical-align: middle;\n",
       "    }\n",
       "\n",
       "    .dataframe tbody tr th {\n",
       "        vertical-align: top;\n",
       "    }\n",
       "\n",
       "    .dataframe thead th {\n",
       "        text-align: right;\n",
       "    }\n",
       "</style>\n",
       "<table border=\"1\" class=\"dataframe\">\n",
       "  <thead>\n",
       "    <tr style=\"text-align: right;\">\n",
       "      <th></th>\n",
       "      <th>Date</th>\n",
       "      <th>Rainfall_Bastia_Umbra</th>\n",
       "      <th>Depth_to_Groundwater_P24</th>\n",
       "      <th>Depth_to_Groundwater_P25</th>\n",
       "      <th>Temperature_Bastia_Umbra</th>\n",
       "      <th>Temperature_Petrignano</th>\n",
       "      <th>Volume_C10_Petrignano</th>\n",
       "      <th>Hydrometry_Fiume_Chiascio_Petrignano</th>\n",
       "    </tr>\n",
       "  </thead>\n",
       "  <tbody>\n",
       "    <tr>\n",
       "      <th>0</th>\n",
       "      <td>14/03/2006</td>\n",
       "      <td>NaN</td>\n",
       "      <td>-22.48</td>\n",
       "      <td>-22.18</td>\n",
       "      <td>NaN</td>\n",
       "      <td>NaN</td>\n",
       "      <td>NaN</td>\n",
       "      <td>NaN</td>\n",
       "    </tr>\n",
       "    <tr>\n",
       "      <th>1</th>\n",
       "      <td>15/03/2006</td>\n",
       "      <td>NaN</td>\n",
       "      <td>-22.38</td>\n",
       "      <td>-22.14</td>\n",
       "      <td>NaN</td>\n",
       "      <td>NaN</td>\n",
       "      <td>NaN</td>\n",
       "      <td>NaN</td>\n",
       "    </tr>\n",
       "    <tr>\n",
       "      <th>2</th>\n",
       "      <td>16/03/2006</td>\n",
       "      <td>NaN</td>\n",
       "      <td>-22.25</td>\n",
       "      <td>-22.04</td>\n",
       "      <td>NaN</td>\n",
       "      <td>NaN</td>\n",
       "      <td>NaN</td>\n",
       "      <td>NaN</td>\n",
       "    </tr>\n",
       "    <tr>\n",
       "      <th>3</th>\n",
       "      <td>17/03/2006</td>\n",
       "      <td>NaN</td>\n",
       "      <td>-22.38</td>\n",
       "      <td>-22.04</td>\n",
       "      <td>NaN</td>\n",
       "      <td>NaN</td>\n",
       "      <td>NaN</td>\n",
       "      <td>NaN</td>\n",
       "    </tr>\n",
       "    <tr>\n",
       "      <th>4</th>\n",
       "      <td>18/03/2006</td>\n",
       "      <td>NaN</td>\n",
       "      <td>-22.60</td>\n",
       "      <td>-22.04</td>\n",
       "      <td>NaN</td>\n",
       "      <td>NaN</td>\n",
       "      <td>NaN</td>\n",
       "      <td>NaN</td>\n",
       "    </tr>\n",
       "  </tbody>\n",
       "</table>\n",
       "</div>"
      ],
      "text/plain": [
       "         Date  Rainfall_Bastia_Umbra  Depth_to_Groundwater_P24  \\\n",
       "0  14/03/2006                    NaN                    -22.48   \n",
       "1  15/03/2006                    NaN                    -22.38   \n",
       "2  16/03/2006                    NaN                    -22.25   \n",
       "3  17/03/2006                    NaN                    -22.38   \n",
       "4  18/03/2006                    NaN                    -22.60   \n",
       "\n",
       "   Depth_to_Groundwater_P25  Temperature_Bastia_Umbra  Temperature_Petrignano  \\\n",
       "0                    -22.18                       NaN                     NaN   \n",
       "1                    -22.14                       NaN                     NaN   \n",
       "2                    -22.04                       NaN                     NaN   \n",
       "3                    -22.04                       NaN                     NaN   \n",
       "4                    -22.04                       NaN                     NaN   \n",
       "\n",
       "   Volume_C10_Petrignano  Hydrometry_Fiume_Chiascio_Petrignano  \n",
       "0                    NaN                                   NaN  \n",
       "1                    NaN                                   NaN  \n",
       "2                    NaN                                   NaN  \n",
       "3                    NaN                                   NaN  \n",
       "4                    NaN                                   NaN  "
      ]
     },
     "execution_count": 15,
     "metadata": {},
     "output_type": "execute_result"
    }
   ],
   "source": [
    "df = pd.read_csv(\"Aquifer_Petrignano.csv\")\n",
    "df.head()"
   ]
  },
  {
   "cell_type": "code",
   "execution_count": 18,
   "metadata": {},
   "outputs": [],
   "source": [
    "# Remove old rows\n",
    "df = df[df.Rainfall_Bastia_Umbra.notna()].reset_index(drop=True)\n",
    "# Remove not usefull columns\n",
    "df = df.drop(['Depth_to_Groundwater_P24', 'Temperature_Petrignano'], axis=1)"
   ]
  },
  {
   "cell_type": "code",
   "execution_count": 19,
   "metadata": {},
   "outputs": [],
   "source": [
    "df.columns = ['date', 'rainfall', 'depth_to_groundwater', 'temperature', 'drainage_volume', 'river_hydrometry']"
   ]
  },
  {
   "cell_type": "code",
   "execution_count": 20,
   "metadata": {},
   "outputs": [
    {
     "data": {
      "text/html": [
       "<style type=\"text/css\">\n",
       "#T_ee1ef_row0_col0, #T_ee1ef_row1_col0, #T_ee1ef_row2_col0, #T_ee1ef_row3_col0, #T_ee1ef_row4_col0 {\n",
       "  background-color: dodgerblue;\n",
       "}\n",
       "</style>\n",
       "<table id=\"T_ee1ef\">\n",
       "  <thead>\n",
       "    <tr>\n",
       "      <th class=\"blank level0\" >&nbsp;</th>\n",
       "      <th id=\"T_ee1ef_level0_col0\" class=\"col_heading level0 col0\" >date</th>\n",
       "      <th id=\"T_ee1ef_level0_col1\" class=\"col_heading level0 col1\" >rainfall</th>\n",
       "      <th id=\"T_ee1ef_level0_col2\" class=\"col_heading level0 col2\" >depth_to_groundwater</th>\n",
       "      <th id=\"T_ee1ef_level0_col3\" class=\"col_heading level0 col3\" >temperature</th>\n",
       "      <th id=\"T_ee1ef_level0_col4\" class=\"col_heading level0 col4\" >drainage_volume</th>\n",
       "      <th id=\"T_ee1ef_level0_col5\" class=\"col_heading level0 col5\" >river_hydrometry</th>\n",
       "    </tr>\n",
       "  </thead>\n",
       "  <tbody>\n",
       "    <tr>\n",
       "      <th id=\"T_ee1ef_level0_row0\" class=\"row_heading level0 row0\" >0</th>\n",
       "      <td id=\"T_ee1ef_row0_col0\" class=\"data row0 col0\" >2009-01-01 00:00:00</td>\n",
       "      <td id=\"T_ee1ef_row0_col1\" class=\"data row0 col1\" >0.000000</td>\n",
       "      <td id=\"T_ee1ef_row0_col2\" class=\"data row0 col2\" >-31.140000</td>\n",
       "      <td id=\"T_ee1ef_row0_col3\" class=\"data row0 col3\" >5.200000</td>\n",
       "      <td id=\"T_ee1ef_row0_col4\" class=\"data row0 col4\" >-24530.688000</td>\n",
       "      <td id=\"T_ee1ef_row0_col5\" class=\"data row0 col5\" >2.400000</td>\n",
       "    </tr>\n",
       "    <tr>\n",
       "      <th id=\"T_ee1ef_level0_row1\" class=\"row_heading level0 row1\" >1</th>\n",
       "      <td id=\"T_ee1ef_row1_col0\" class=\"data row1 col0\" >2009-01-02 00:00:00</td>\n",
       "      <td id=\"T_ee1ef_row1_col1\" class=\"data row1 col1\" >0.000000</td>\n",
       "      <td id=\"T_ee1ef_row1_col2\" class=\"data row1 col2\" >-31.110000</td>\n",
       "      <td id=\"T_ee1ef_row1_col3\" class=\"data row1 col3\" >2.300000</td>\n",
       "      <td id=\"T_ee1ef_row1_col4\" class=\"data row1 col4\" >-28785.888000</td>\n",
       "      <td id=\"T_ee1ef_row1_col5\" class=\"data row1 col5\" >2.500000</td>\n",
       "    </tr>\n",
       "    <tr>\n",
       "      <th id=\"T_ee1ef_level0_row2\" class=\"row_heading level0 row2\" >2</th>\n",
       "      <td id=\"T_ee1ef_row2_col0\" class=\"data row2 col0\" >2009-01-03 00:00:00</td>\n",
       "      <td id=\"T_ee1ef_row2_col1\" class=\"data row2 col1\" >0.000000</td>\n",
       "      <td id=\"T_ee1ef_row2_col2\" class=\"data row2 col2\" >-31.070000</td>\n",
       "      <td id=\"T_ee1ef_row2_col3\" class=\"data row2 col3\" >4.400000</td>\n",
       "      <td id=\"T_ee1ef_row2_col4\" class=\"data row2 col4\" >-25766.208000</td>\n",
       "      <td id=\"T_ee1ef_row2_col5\" class=\"data row2 col5\" >2.400000</td>\n",
       "    </tr>\n",
       "    <tr>\n",
       "      <th id=\"T_ee1ef_level0_row3\" class=\"row_heading level0 row3\" >3</th>\n",
       "      <td id=\"T_ee1ef_row3_col0\" class=\"data row3 col0\" >2009-01-04 00:00:00</td>\n",
       "      <td id=\"T_ee1ef_row3_col1\" class=\"data row3 col1\" >0.000000</td>\n",
       "      <td id=\"T_ee1ef_row3_col2\" class=\"data row3 col2\" >-31.050000</td>\n",
       "      <td id=\"T_ee1ef_row3_col3\" class=\"data row3 col3\" >0.800000</td>\n",
       "      <td id=\"T_ee1ef_row3_col4\" class=\"data row3 col4\" >-27919.296000</td>\n",
       "      <td id=\"T_ee1ef_row3_col5\" class=\"data row3 col5\" >2.400000</td>\n",
       "    </tr>\n",
       "    <tr>\n",
       "      <th id=\"T_ee1ef_level0_row4\" class=\"row_heading level0 row4\" >4</th>\n",
       "      <td id=\"T_ee1ef_row4_col0\" class=\"data row4 col0\" >2009-01-05 00:00:00</td>\n",
       "      <td id=\"T_ee1ef_row4_col1\" class=\"data row4 col1\" >0.000000</td>\n",
       "      <td id=\"T_ee1ef_row4_col2\" class=\"data row4 col2\" >-31.010000</td>\n",
       "      <td id=\"T_ee1ef_row4_col3\" class=\"data row4 col3\" >-1.900000</td>\n",
       "      <td id=\"T_ee1ef_row4_col4\" class=\"data row4 col4\" >-29854.656000</td>\n",
       "      <td id=\"T_ee1ef_row4_col5\" class=\"data row4 col5\" >2.300000</td>\n",
       "    </tr>\n",
       "  </tbody>\n",
       "</table>\n"
      ],
      "text/plain": [
       "<pandas.io.formats.style.Styler at 0x1cfe31b7910>"
      ]
     },
     "execution_count": 20,
     "metadata": {},
     "output_type": "execute_result"
    }
   ],
   "source": [
    "from datetime import datetime, date \n",
    "\n",
    "df['date'] = pd.to_datetime(df['date'], format = '%d/%m/%Y')\n",
    "df.head().style.set_properties(subset=['date'], **{'background-color': 'dodgerblue'})"
   ]
  },
  {
   "cell_type": "code",
   "execution_count": null,
   "metadata": {},
   "outputs": [],
   "source": []
  }
 ],
 "metadata": {
  "kernelspec": {
   "display_name": "tf2",
   "language": "python",
   "name": "python3"
  },
  "language_info": {
   "codemirror_mode": {
    "name": "ipython",
    "version": 3
   },
   "file_extension": ".py",
   "mimetype": "text/x-python",
   "name": "python",
   "nbconvert_exporter": "python",
   "pygments_lexer": "ipython3",
   "version": "3.9.18"
  }
 },
 "nbformat": 4,
 "nbformat_minor": 2
}
